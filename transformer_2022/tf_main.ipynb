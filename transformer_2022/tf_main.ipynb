{
 "cells": [
  {
   "cell_type": "code",
   "execution_count": 1,
   "metadata": {},
   "outputs": [
    {
     "name": "stderr",
     "output_type": "stream",
     "text": [
      "/opt/homebrew/Caskroom/miniforge/base/envs/tf_main/lib/python3.8/site-packages/tqdm/auto.py:22: TqdmWarning: IProgress not found. Please update jupyter and ipywidgets. See https://ipywidgets.readthedocs.io/en/stable/user_install.html\n",
      "  from .autonotebook import tqdm as notebook_tqdm\n"
     ]
    }
   ],
   "source": [
    "from pathlib import Path\n",
    "import math\n",
    "import time\n",
    "from collections import Counter\n",
    "from tqdm import tqdm\n",
    "import torch\n",
    "import torch.nn as nn\n",
    "from torch import Tensor\n",
    "from torch.nn import (\n",
    "    TransformerEncoder, TransformerDecoder,\n",
    "    TransformerEncoderLayer, TransformerDecoderLayer\n",
    ")\n",
    "from torch.nn.utils.rnn import pad_sequence\n",
    "from torch.utils.data import DataLoader\n",
    "from torchtext.data.utils import get_tokenizer\n",
    "from torchtext.vocab import Vocab\n",
    "from torchtext.utils import download_from_url, extract_archive"
   ]
  },
  {
   "cell_type": "code",
   "execution_count": null,
   "metadata": {},
   "outputs": [],
   "source": [
    "file_paths_train = ['./train_data/train.original', './train_data/train.modern']\n",
    "file_paths_valid = ['./val_data/val.original', './val_data/val.modern']"
   ]
  },
  {
   "cell_type": "code",
   "execution_count": 2,
   "metadata": {},
   "outputs": [],
   "source": [
    "device = torch.device('cuda:0' if torch.cuda.is_available() else 'cpu')\n",
    "\n",
    "model_dir_path = Path('model')\n",
    "if not model_dir_path.exists():\n",
    "    model_dir_path.mkdir(parents=True)"
   ]
  },
  {
   "cell_type": "code",
   "execution_count": 4,
   "metadata": {},
   "outputs": [],
   "source": [
    "def read_texts(file_path):\n",
    "    with open(file_path, 'r') as file:\n",
    "        texts = file.readlines()\n",
    "    return texts\n",
    "\n",
    "texts_src_train = read_texts(file_paths_train[0])\n",
    "texts_tgt_train = read_texts(file_paths_train[1])\n",
    "texts_src_valid = read_texts(file_paths_valid[0])\n",
    "texts_tgt_valid = read_texts(file_paths_valid[1])"
   ]
  },
  {
   "cell_type": "code",
   "execution_count": 6,
   "metadata": {},
   "outputs": [],
   "source": [
    "import MeCab"
   ]
  },
  {
   "cell_type": "code",
   "execution_count": 12,
   "metadata": {},
   "outputs": [],
   "source": [
    "tagger_original = MeCab.Tagger('-O wakati -d ./UniDic-wabun_1603/')\n",
    "tagger_modern = MeCab.Tagger('-O wakati -d ./unidic-cwj-3.1.1-full/')\n",
    "\n",
    "tokenizer_src = get_tokenizer(tagger_original.parse, language='ja')\n",
    "tokenizer_tgt = get_tokenizer(tagger_modern.parse, language='ja')"
   ]
  },
  {
   "cell_type": "code",
   "execution_count": 14,
   "metadata": {},
   "outputs": [
    {
     "name": "stdout",
     "output_type": "stream",
     "text": [
      "<class 'torchtext.vocab.Vocab'>\n"
     ]
    }
   ],
   "source": [
    "def build_vocab(texts, tokenizer):\n",
    "    counter = Counter()\n",
    "    for text in texts:\n",
    "        counter.update(tokenizer(text))\n",
    "    return Vocab(counter, specials=['<unk>', '<pad>', '<start>', '<end>'])\n",
    "\n",
    "vocab_src = build_vocab(texts_src_train, tokenizer_src)\n",
    "vocab_tgt = build_vocab(texts_tgt_train, tokenizer_tgt)"
   ]
  },
  {
   "cell_type": "code",
   "execution_count": 10,
   "metadata": {},
   "outputs": [],
   "source": [
    "def data_process(texts_src, texts_tgt, vocab_src, vocab_tgt, tokenizer_src, tokenizer_tgt):\n",
    "    \n",
    "    data = []\n",
    "    for (src, tgt) in zip(texts_src, texts_tgt):\n",
    "        src_tensor = torch.tensor(\n",
    "            convert_text_to_indexes(text=src, vocab=vocab_src, tokenizer=tokenizer_src),\n",
    "            dtype=torch.long\n",
    "        )\n",
    "        tgt_tensor = torch.tensor(\n",
    "            convert_text_to_indexes(text=tgt, vocab=vocab_tgt, tokenizer=tokenizer_tgt),\n",
    "            dtype=torch.long\n",
    "        )\n",
    "        data.append((src_tensor, tgt_tensor))\n",
    "        \n",
    "    return data"
   ]
  },
  {
   "cell_type": "code",
   "execution_count": 11,
   "metadata": {},
   "outputs": [],
   "source": [
    "def convert_text_to_indexes(text, vocab, tokenizer):\n",
    "    return [vocab['<start>']] + [\n",
    "        vocab[token] for token in tokenizer(text.strip(\"\\n\"))\n",
    "    ] + [vocab['<end>']]\n",
    "\n",
    "train_data = data_process(\n",
    "    texts_src=texts_src_train, texts_tgt=texts_tgt_train,\n",
    "    vocab_src=vocab_src, vocab_tgt=vocab_tgt,\n",
    "    tokenizer_src=tokenizer_src, tokenizer_tgt=tokenizer_tgt\n",
    ")\n",
    "valid_data = data_process(\n",
    "    texts_src=texts_src_valid, texts_tgt=texts_tgt_valid,\n",
    "    vocab_src=vocab_src, vocab_tgt=vocab_tgt,\n",
    "    tokenizer_src=tokenizer_src, tokenizer_tgt=tokenizer_tgt\n",
    ")"
   ]
  },
  {
   "cell_type": "code",
   "execution_count": 13,
   "metadata": {},
   "outputs": [],
   "source": [
    "batch_size = 256\n",
    "PAD_IDX = vocab_src['<pad>']\n",
    "START_IDX = vocab_src['<start>']\n",
    "END_IDX = vocab_src['<end>']\n",
    "\n",
    "def generate_batch(data_batch):\n",
    "    \n",
    "    batch_src, batch_tgt = [], []\n",
    "    for src, tgt in data_batch:\n",
    "        batch_src.append(src)\n",
    "        batch_tgt.append(tgt)\n",
    "        \n",
    "    batch_src = pad_sequence(batch_src, padding_value=PAD_IDX)\n",
    "    batch_tgt = pad_sequence(batch_tgt, padding_value=PAD_IDX)\n",
    "    \n",
    "    return batch_src, batch_tgt\n",
    "\n",
    "train_iter = DataLoader(train_data, batch_size=batch_size, shuffle=True, collate_fn=generate_batch)\n",
    "valid_iter = DataLoader(valid_data, batch_size=batch_size, shuffle=True, collate_fn=generate_batch)"
   ]
  },
  {
   "cell_type": "code",
   "execution_count": 15,
   "metadata": {},
   "outputs": [],
   "source": [
    "class Seq2SeqTransformer(nn.Module):\n",
    "    \n",
    "    def __init__(\n",
    "        self, num_encoder_layers: int, num_decoder_layers: int,\n",
    "        embedding_size: int, vocab_size_src: int, vocab_size_tgt: int,\n",
    "        dim_feedforward:int = 512, dropout:float = 0.1, nhead:int = 8\n",
    "    ):\n",
    "        \n",
    "        super(Seq2SeqTransformer, self).__init__()\n",
    "\n",
    "        self.token_embedding_src = TokenEmbedding(vocab_size_src, embedding_size)\n",
    "        self.positional_encoding = PositionalEncoding(embedding_size, dropout=dropout)\n",
    "        encoder_layer = TransformerEncoderLayer(\n",
    "            d_model=embedding_size, nhead=nhead, dim_feedforward=dim_feedforward\n",
    "        )\n",
    "        self.transformer_encoder = TransformerEncoder(encoder_layer, num_layers=num_encoder_layers)\n",
    "        \n",
    "        self.token_embedding_tgt = TokenEmbedding(vocab_size_tgt, embedding_size)\n",
    "        decoder_layer = TransformerDecoderLayer(\n",
    "            d_model=embedding_size, nhead=nhead, dim_feedforward=dim_feedforward\n",
    "        )\n",
    "        self.transformer_decoder = TransformerDecoder(decoder_layer, num_layers=num_decoder_layers)\n",
    "        \n",
    "        self.output = nn.Linear(embedding_size, vocab_size_tgt)\n",
    "\n",
    "    def forward(\n",
    "        self, src: Tensor, tgt: Tensor,\n",
    "        mask_src: Tensor, mask_tgt: Tensor,\n",
    "        padding_mask_src: Tensor, padding_mask_tgt: Tensor,\n",
    "        memory_key_padding_mask: Tensor\n",
    "    ):\n",
    "        \n",
    "        embedding_src = self.positional_encoding(self.token_embedding_src(src))\n",
    "        memory = self.transformer_encoder(embedding_src, mask_src, padding_mask_src)\n",
    "        embedding_tgt = self.positional_encoding(self.token_embedding_tgt(tgt))\n",
    "        outs = self.transformer_decoder(\n",
    "            embedding_tgt, memory, mask_tgt, None,\n",
    "            padding_mask_tgt, memory_key_padding_mask\n",
    "        )\n",
    "        return self.output(outs)\n",
    "\n",
    "    def encode(self, src: Tensor, mask_src: Tensor):\n",
    "        return self.transformer_encoder(self.positional_encoding(self.token_embedding_src(src)), mask_src)\n",
    "\n",
    "    def decode(self, tgt: Tensor, memory: Tensor, mask_tgt: Tensor):\n",
    "        return self.transformer_decoder(self.positional_encoding(self.token_embedding_tgt(tgt)), memory, mask_tgt)"
   ]
  },
  {
   "cell_type": "code",
   "execution_count": 16,
   "metadata": {},
   "outputs": [],
   "source": [
    "class TokenEmbedding(nn.Module):\n",
    "    \n",
    "    def __init__(self, vocab_size, embedding_size):\n",
    "        \n",
    "        super(TokenEmbedding, self).__init__()\n",
    "        self.embedding = nn.Embedding(vocab_size, embedding_size)\n",
    "        self.embedding_size = embedding_size\n",
    "        \n",
    "    def forward(self, tokens: Tensor):\n",
    "        return self.embedding(tokens.long()) * math.sqrt(self.embedding_size)"
   ]
  },
  {
   "cell_type": "code",
   "execution_count": 17,
   "metadata": {},
   "outputs": [],
   "source": [
    "class PositionalEncoding(nn.Module):\n",
    "    \n",
    "    def __init__(self, embedding_size: int, dropout: float, maxlen: int = 5000):\n",
    "        super(PositionalEncoding, self).__init__()\n",
    "        \n",
    "        den = torch.exp(-torch.arange(0, embedding_size, 2) * math.log(10000) / embedding_size)\n",
    "        pos = torch.arange(0, maxlen).reshape(maxlen, 1)\n",
    "        embedding_pos = torch.zeros((maxlen, embedding_size))\n",
    "        embedding_pos[:, 0::2] = torch.sin(pos * den)\n",
    "        embedding_pos[:, 1::2] = torch.cos(pos * den)\n",
    "        embedding_pos = embedding_pos.unsqueeze(-2)\n",
    "\n",
    "        self.dropout = nn.Dropout(dropout)\n",
    "        self.register_buffer('embedding_pos', embedding_pos)\n",
    "\n",
    "    def forward(self, token_embedding: Tensor):\n",
    "        return self.dropout(token_embedding + self.embedding_pos[: token_embedding.size(0), :])"
   ]
  },
  {
   "cell_type": "code",
   "execution_count": 18,
   "metadata": {},
   "outputs": [],
   "source": [
    "def create_mask(src, tgt, PAD_IDX):\n",
    "    \n",
    "    seq_len_src = src.shape[0]\n",
    "    seq_len_tgt = tgt.shape[0]\n",
    "\n",
    "    mask_tgt = generate_square_subsequent_mask(seq_len_tgt, PAD_IDX)\n",
    "    mask_src = torch.zeros((seq_len_src, seq_len_src), device=device).type(torch.bool)\n",
    "\n",
    "    padding_mask_src = (src == PAD_IDX).transpose(0, 1)\n",
    "    padding_mask_tgt = (tgt == PAD_IDX).transpose(0, 1)\n",
    "    \n",
    "    return mask_src, mask_tgt, padding_mask_src, padding_mask_tgt\n",
    "\n",
    "\n",
    "def generate_square_subsequent_mask(seq_len, PAD_IDX):\n",
    "    mask = (torch.triu(torch.ones((seq_len, seq_len), device=device)) == 1).transpose(0, 1)\n",
    "    mask = mask.float().masked_fill(mask == 0, float('-inf')).masked_fill(mask == PAD_IDX, float(0.0))\n",
    "    return mask\n"
   ]
  },
  {
   "cell_type": "code",
   "execution_count": 19,
   "metadata": {},
   "outputs": [],
   "source": [
    "def train(model, data, optimizer, criterion, PAD_IDX):\n",
    "    \n",
    "    model.train()\n",
    "    losses = 0\n",
    "    for src, tgt in tqdm(data):\n",
    "        \n",
    "        src = src.to(device)\n",
    "        tgt = tgt.to(device)\n",
    "\n",
    "        input_tgt = tgt[:-1, :]\n",
    "\n",
    "        mask_src, mask_tgt, padding_mask_src, padding_mask_tgt = create_mask(src, input_tgt, PAD_IDX)\n",
    "\n",
    "        logits = model(\n",
    "            src=src, tgt=input_tgt,\n",
    "            mask_src=mask_src, mask_tgt=mask_tgt,\n",
    "            padding_mask_src=padding_mask_src, padding_mask_tgt=padding_mask_tgt,\n",
    "            memory_key_padding_mask=padding_mask_src\n",
    "        )\n",
    "\n",
    "        optimizer.zero_grad()\n",
    "\n",
    "        output_tgt = tgt[1:, :]\n",
    "        loss = criterion(logits.reshape(-1, logits.shape[-1]), output_tgt.reshape(-1))\n",
    "        loss.backward()\n",
    "\n",
    "        optimizer.step()\n",
    "        losses += loss.item()\n",
    "        \n",
    "    return losses / len(data)\n",
    "\n",
    "def evaluate(model, data, criterion, PAD_IDX):\n",
    "    \n",
    "    model.eval()\n",
    "    losses = 0\n",
    "    for src, tgt in data:\n",
    "        \n",
    "        src = src.to(device)\n",
    "        tgt = tgt.to(device)\n",
    "\n",
    "        input_tgt = tgt[:-1, :]\n",
    "\n",
    "        mask_src, mask_tgt, padding_mask_src, padding_mask_tgt = create_mask(src, input_tgt, PAD_IDX)\n",
    "\n",
    "        logits = model(\n",
    "            src=src, tgt=input_tgt,\n",
    "            mask_src=mask_src, mask_tgt=mask_tgt,\n",
    "            padding_mask_src=padding_mask_src, padding_mask_tgt=padding_mask_tgt,\n",
    "            memory_key_padding_mask=padding_mask_src\n",
    "        )\n",
    "        \n",
    "        output_tgt = tgt[1:, :]\n",
    "        loss = criterion(logits.reshape(-1, logits.shape[-1]), output_tgt.reshape(-1))\n",
    "        losses += loss.item()\n",
    "        \n",
    "    return losses / len(data)"
   ]
  },
  {
   "cell_type": "code",
   "execution_count": 20,
   "metadata": {},
   "outputs": [],
   "source": [
    "vocab_size_src = len(vocab_src)\n",
    "vocab_size_tgt = len(vocab_tgt)\n",
    "embedding_size = 240\n",
    "nhead = 8\n",
    "dim_feedforward = 100\n",
    "num_encoder_layers = 2\n",
    "num_decoder_layers = 2\n",
    "dropout = 0.1\n",
    "\n",
    "model = Seq2SeqTransformer(\n",
    "    num_encoder_layers=num_encoder_layers,\n",
    "    num_decoder_layers=num_decoder_layers,\n",
    "    embedding_size=embedding_size,\n",
    "    vocab_size_src=vocab_size_src, vocab_size_tgt=vocab_size_tgt,\n",
    "    dim_feedforward=dim_feedforward,\n",
    "    dropout=dropout, nhead=nhead\n",
    ")\n",
    "\n",
    "for p in model.parameters():\n",
    "    if p.dim() > 1:\n",
    "        nn.init.xavier_uniform_(p)\n",
    "\n",
    "model = model.to(device)\n",
    "\n",
    "criterion = torch.nn.CrossEntropyLoss(ignore_index=PAD_IDX)\n",
    "\n",
    "optimizer = torch.optim.Adam(model.parameters())"
   ]
  },
  {
   "cell_type": "code",
   "execution_count": 21,
   "metadata": {},
   "outputs": [
    {
     "name": "stderr",
     "output_type": "stream",
     "text": [
      "  0%|          | 0/45 [00:09<?, ?it/s]\n"
     ]
    },
    {
     "ename": "KeyboardInterrupt",
     "evalue": "",
     "output_type": "error",
     "traceback": [
      "\u001b[0;31m---------------------------------------------------------------------------\u001b[0m",
      "\u001b[0;31mKeyboardInterrupt\u001b[0m                         Traceback (most recent call last)",
      "Cell \u001b[0;32mIn[21], line 11\u001b[0m\n\u001b[1;32m      7\u001b[0m \u001b[39mfor\u001b[39;00m loop \u001b[39min\u001b[39;00m \u001b[39mrange\u001b[39m(\u001b[39m1\u001b[39m, epoch \u001b[39m+\u001b[39m \u001b[39m1\u001b[39m):\n\u001b[1;32m      9\u001b[0m     start_time \u001b[39m=\u001b[39m time\u001b[39m.\u001b[39mtime()\n\u001b[0;32m---> 11\u001b[0m     loss_train \u001b[39m=\u001b[39m train(\n\u001b[1;32m     12\u001b[0m         model\u001b[39m=\u001b[39;49mmodel, data\u001b[39m=\u001b[39;49mtrain_iter, optimizer\u001b[39m=\u001b[39;49moptimizer,\n\u001b[1;32m     13\u001b[0m         criterion\u001b[39m=\u001b[39;49mcriterion, PAD_IDX\u001b[39m=\u001b[39;49mPAD_IDX\n\u001b[1;32m     14\u001b[0m     )\n\u001b[1;32m     16\u001b[0m     elapsed_time \u001b[39m=\u001b[39m time\u001b[39m.\u001b[39mtime() \u001b[39m-\u001b[39m start_time\n\u001b[1;32m     18\u001b[0m     loss_valid \u001b[39m=\u001b[39m evaluate(\n\u001b[1;32m     19\u001b[0m         model\u001b[39m=\u001b[39mmodel, data\u001b[39m=\u001b[39mvalid_iter, criterion\u001b[39m=\u001b[39mcriterion, PAD_IDX\u001b[39m=\u001b[39mPAD_IDX\n\u001b[1;32m     20\u001b[0m     )\n",
      "Cell \u001b[0;32mIn[19], line 14\u001b[0m, in \u001b[0;36mtrain\u001b[0;34m(model, data, optimizer, criterion, PAD_IDX)\u001b[0m\n\u001b[1;32m     10\u001b[0m input_tgt \u001b[39m=\u001b[39m tgt[:\u001b[39m-\u001b[39m\u001b[39m1\u001b[39m, :]\n\u001b[1;32m     12\u001b[0m mask_src, mask_tgt, padding_mask_src, padding_mask_tgt \u001b[39m=\u001b[39m create_mask(src, input_tgt, PAD_IDX)\n\u001b[0;32m---> 14\u001b[0m logits \u001b[39m=\u001b[39m model(\n\u001b[1;32m     15\u001b[0m     src\u001b[39m=\u001b[39;49msrc, tgt\u001b[39m=\u001b[39;49minput_tgt,\n\u001b[1;32m     16\u001b[0m     mask_src\u001b[39m=\u001b[39;49mmask_src, mask_tgt\u001b[39m=\u001b[39;49mmask_tgt,\n\u001b[1;32m     17\u001b[0m     padding_mask_src\u001b[39m=\u001b[39;49mpadding_mask_src, padding_mask_tgt\u001b[39m=\u001b[39;49mpadding_mask_tgt,\n\u001b[1;32m     18\u001b[0m     memory_key_padding_mask\u001b[39m=\u001b[39;49mpadding_mask_src\n\u001b[1;32m     19\u001b[0m )\n\u001b[1;32m     21\u001b[0m optimizer\u001b[39m.\u001b[39mzero_grad()\n\u001b[1;32m     23\u001b[0m output_tgt \u001b[39m=\u001b[39m tgt[\u001b[39m1\u001b[39m:, :]\n",
      "File \u001b[0;32m/opt/homebrew/Caskroom/miniforge/base/envs/tf_main/lib/python3.8/site-packages/torch/nn/modules/module.py:1190\u001b[0m, in \u001b[0;36mModule._call_impl\u001b[0;34m(self, *input, **kwargs)\u001b[0m\n\u001b[1;32m   1186\u001b[0m \u001b[39m# If we don't have any hooks, we want to skip the rest of the logic in\u001b[39;00m\n\u001b[1;32m   1187\u001b[0m \u001b[39m# this function, and just call forward.\u001b[39;00m\n\u001b[1;32m   1188\u001b[0m \u001b[39mif\u001b[39;00m \u001b[39mnot\u001b[39;00m (\u001b[39mself\u001b[39m\u001b[39m.\u001b[39m_backward_hooks \u001b[39mor\u001b[39;00m \u001b[39mself\u001b[39m\u001b[39m.\u001b[39m_forward_hooks \u001b[39mor\u001b[39;00m \u001b[39mself\u001b[39m\u001b[39m.\u001b[39m_forward_pre_hooks \u001b[39mor\u001b[39;00m _global_backward_hooks\n\u001b[1;32m   1189\u001b[0m         \u001b[39mor\u001b[39;00m _global_forward_hooks \u001b[39mor\u001b[39;00m _global_forward_pre_hooks):\n\u001b[0;32m-> 1190\u001b[0m     \u001b[39mreturn\u001b[39;00m forward_call(\u001b[39m*\u001b[39;49m\u001b[39minput\u001b[39;49m, \u001b[39m*\u001b[39;49m\u001b[39m*\u001b[39;49mkwargs)\n\u001b[1;32m   1191\u001b[0m \u001b[39m# Do not call functions when jit is used\u001b[39;00m\n\u001b[1;32m   1192\u001b[0m full_backward_hooks, non_full_backward_hooks \u001b[39m=\u001b[39m [], []\n",
      "Cell \u001b[0;32mIn[15], line 34\u001b[0m, in \u001b[0;36mSeq2SeqTransformer.forward\u001b[0;34m(self, src, tgt, mask_src, mask_tgt, padding_mask_src, padding_mask_tgt, memory_key_padding_mask)\u001b[0m\n\u001b[1;32m     26\u001b[0m \u001b[39mdef\u001b[39;00m \u001b[39mforward\u001b[39m(\n\u001b[1;32m     27\u001b[0m     \u001b[39mself\u001b[39m, src: Tensor, tgt: Tensor,\n\u001b[1;32m     28\u001b[0m     mask_src: Tensor, mask_tgt: Tensor,\n\u001b[1;32m     29\u001b[0m     padding_mask_src: Tensor, padding_mask_tgt: Tensor,\n\u001b[1;32m     30\u001b[0m     memory_key_padding_mask: Tensor\n\u001b[1;32m     31\u001b[0m ):\n\u001b[1;32m     33\u001b[0m     embedding_src \u001b[39m=\u001b[39m \u001b[39mself\u001b[39m\u001b[39m.\u001b[39mpositional_encoding(\u001b[39mself\u001b[39m\u001b[39m.\u001b[39mtoken_embedding_src(src))\n\u001b[0;32m---> 34\u001b[0m     memory \u001b[39m=\u001b[39m \u001b[39mself\u001b[39;49m\u001b[39m.\u001b[39;49mtransformer_encoder(embedding_src, mask_src, padding_mask_src)\n\u001b[1;32m     35\u001b[0m     embedding_tgt \u001b[39m=\u001b[39m \u001b[39mself\u001b[39m\u001b[39m.\u001b[39mpositional_encoding(\u001b[39mself\u001b[39m\u001b[39m.\u001b[39mtoken_embedding_tgt(tgt))\n\u001b[1;32m     36\u001b[0m     outs \u001b[39m=\u001b[39m \u001b[39mself\u001b[39m\u001b[39m.\u001b[39mtransformer_decoder(\n\u001b[1;32m     37\u001b[0m         embedding_tgt, memory, mask_tgt, \u001b[39mNone\u001b[39;00m,\n\u001b[1;32m     38\u001b[0m         padding_mask_tgt, memory_key_padding_mask\n\u001b[1;32m     39\u001b[0m     )\n",
      "File \u001b[0;32m/opt/homebrew/Caskroom/miniforge/base/envs/tf_main/lib/python3.8/site-packages/torch/nn/modules/module.py:1190\u001b[0m, in \u001b[0;36mModule._call_impl\u001b[0;34m(self, *input, **kwargs)\u001b[0m\n\u001b[1;32m   1186\u001b[0m \u001b[39m# If we don't have any hooks, we want to skip the rest of the logic in\u001b[39;00m\n\u001b[1;32m   1187\u001b[0m \u001b[39m# this function, and just call forward.\u001b[39;00m\n\u001b[1;32m   1188\u001b[0m \u001b[39mif\u001b[39;00m \u001b[39mnot\u001b[39;00m (\u001b[39mself\u001b[39m\u001b[39m.\u001b[39m_backward_hooks \u001b[39mor\u001b[39;00m \u001b[39mself\u001b[39m\u001b[39m.\u001b[39m_forward_hooks \u001b[39mor\u001b[39;00m \u001b[39mself\u001b[39m\u001b[39m.\u001b[39m_forward_pre_hooks \u001b[39mor\u001b[39;00m _global_backward_hooks\n\u001b[1;32m   1189\u001b[0m         \u001b[39mor\u001b[39;00m _global_forward_hooks \u001b[39mor\u001b[39;00m _global_forward_pre_hooks):\n\u001b[0;32m-> 1190\u001b[0m     \u001b[39mreturn\u001b[39;00m forward_call(\u001b[39m*\u001b[39;49m\u001b[39minput\u001b[39;49m, \u001b[39m*\u001b[39;49m\u001b[39m*\u001b[39;49mkwargs)\n\u001b[1;32m   1191\u001b[0m \u001b[39m# Do not call functions when jit is used\u001b[39;00m\n\u001b[1;32m   1192\u001b[0m full_backward_hooks, non_full_backward_hooks \u001b[39m=\u001b[39m [], []\n",
      "File \u001b[0;32m/opt/homebrew/Caskroom/miniforge/base/envs/tf_main/lib/python3.8/site-packages/torch/nn/modules/transformer.py:280\u001b[0m, in \u001b[0;36mTransformerEncoder.forward\u001b[0;34m(self, src, mask, src_key_padding_mask)\u001b[0m\n\u001b[1;32m    277\u001b[0m         src_key_padding_mask_for_layers \u001b[39m=\u001b[39m \u001b[39mNone\u001b[39;00m\n\u001b[1;32m    279\u001b[0m \u001b[39mfor\u001b[39;00m mod \u001b[39min\u001b[39;00m \u001b[39mself\u001b[39m\u001b[39m.\u001b[39mlayers:\n\u001b[0;32m--> 280\u001b[0m     output \u001b[39m=\u001b[39m mod(output, src_mask\u001b[39m=\u001b[39;49mmask, src_key_padding_mask\u001b[39m=\u001b[39;49msrc_key_padding_mask_for_layers)\n\u001b[1;32m    282\u001b[0m \u001b[39mif\u001b[39;00m convert_to_nested:\n\u001b[1;32m    283\u001b[0m     output \u001b[39m=\u001b[39m output\u001b[39m.\u001b[39mto_padded_tensor(\u001b[39m0.\u001b[39m)\n",
      "File \u001b[0;32m/opt/homebrew/Caskroom/miniforge/base/envs/tf_main/lib/python3.8/site-packages/torch/nn/modules/module.py:1190\u001b[0m, in \u001b[0;36mModule._call_impl\u001b[0;34m(self, *input, **kwargs)\u001b[0m\n\u001b[1;32m   1186\u001b[0m \u001b[39m# If we don't have any hooks, we want to skip the rest of the logic in\u001b[39;00m\n\u001b[1;32m   1187\u001b[0m \u001b[39m# this function, and just call forward.\u001b[39;00m\n\u001b[1;32m   1188\u001b[0m \u001b[39mif\u001b[39;00m \u001b[39mnot\u001b[39;00m (\u001b[39mself\u001b[39m\u001b[39m.\u001b[39m_backward_hooks \u001b[39mor\u001b[39;00m \u001b[39mself\u001b[39m\u001b[39m.\u001b[39m_forward_hooks \u001b[39mor\u001b[39;00m \u001b[39mself\u001b[39m\u001b[39m.\u001b[39m_forward_pre_hooks \u001b[39mor\u001b[39;00m _global_backward_hooks\n\u001b[1;32m   1189\u001b[0m         \u001b[39mor\u001b[39;00m _global_forward_hooks \u001b[39mor\u001b[39;00m _global_forward_pre_hooks):\n\u001b[0;32m-> 1190\u001b[0m     \u001b[39mreturn\u001b[39;00m forward_call(\u001b[39m*\u001b[39;49m\u001b[39minput\u001b[39;49m, \u001b[39m*\u001b[39;49m\u001b[39m*\u001b[39;49mkwargs)\n\u001b[1;32m   1191\u001b[0m \u001b[39m# Do not call functions when jit is used\u001b[39;00m\n\u001b[1;32m   1192\u001b[0m full_backward_hooks, non_full_backward_hooks \u001b[39m=\u001b[39m [], []\n",
      "File \u001b[0;32m/opt/homebrew/Caskroom/miniforge/base/envs/tf_main/lib/python3.8/site-packages/torch/nn/modules/transformer.py:538\u001b[0m, in \u001b[0;36mTransformerEncoderLayer.forward\u001b[0;34m(self, src, src_mask, src_key_padding_mask)\u001b[0m\n\u001b[1;32m    536\u001b[0m     x \u001b[39m=\u001b[39m x \u001b[39m+\u001b[39m \u001b[39mself\u001b[39m\u001b[39m.\u001b[39m_ff_block(\u001b[39mself\u001b[39m\u001b[39m.\u001b[39mnorm2(x))\n\u001b[1;32m    537\u001b[0m \u001b[39melse\u001b[39;00m:\n\u001b[0;32m--> 538\u001b[0m     x \u001b[39m=\u001b[39m \u001b[39mself\u001b[39m\u001b[39m.\u001b[39mnorm1(x \u001b[39m+\u001b[39m \u001b[39mself\u001b[39;49m\u001b[39m.\u001b[39;49m_sa_block(x, src_mask, src_key_padding_mask))\n\u001b[1;32m    539\u001b[0m     x \u001b[39m=\u001b[39m \u001b[39mself\u001b[39m\u001b[39m.\u001b[39mnorm2(x \u001b[39m+\u001b[39m \u001b[39mself\u001b[39m\u001b[39m.\u001b[39m_ff_block(x))\n\u001b[1;32m    541\u001b[0m \u001b[39mreturn\u001b[39;00m x\n",
      "File \u001b[0;32m/opt/homebrew/Caskroom/miniforge/base/envs/tf_main/lib/python3.8/site-packages/torch/nn/modules/transformer.py:546\u001b[0m, in \u001b[0;36mTransformerEncoderLayer._sa_block\u001b[0;34m(self, x, attn_mask, key_padding_mask)\u001b[0m\n\u001b[1;32m    544\u001b[0m \u001b[39mdef\u001b[39;00m \u001b[39m_sa_block\u001b[39m(\u001b[39mself\u001b[39m, x: Tensor,\n\u001b[1;32m    545\u001b[0m               attn_mask: Optional[Tensor], key_padding_mask: Optional[Tensor]) \u001b[39m-\u001b[39m\u001b[39m>\u001b[39m Tensor:\n\u001b[0;32m--> 546\u001b[0m     x \u001b[39m=\u001b[39m \u001b[39mself\u001b[39;49m\u001b[39m.\u001b[39;49mself_attn(x, x, x,\n\u001b[1;32m    547\u001b[0m                        attn_mask\u001b[39m=\u001b[39;49mattn_mask,\n\u001b[1;32m    548\u001b[0m                        key_padding_mask\u001b[39m=\u001b[39;49mkey_padding_mask,\n\u001b[1;32m    549\u001b[0m                        need_weights\u001b[39m=\u001b[39;49m\u001b[39mFalse\u001b[39;49;00m)[\u001b[39m0\u001b[39m]\n\u001b[1;32m    550\u001b[0m     \u001b[39mreturn\u001b[39;00m \u001b[39mself\u001b[39m\u001b[39m.\u001b[39mdropout1(x)\n",
      "File \u001b[0;32m/opt/homebrew/Caskroom/miniforge/base/envs/tf_main/lib/python3.8/site-packages/torch/nn/modules/module.py:1190\u001b[0m, in \u001b[0;36mModule._call_impl\u001b[0;34m(self, *input, **kwargs)\u001b[0m\n\u001b[1;32m   1186\u001b[0m \u001b[39m# If we don't have any hooks, we want to skip the rest of the logic in\u001b[39;00m\n\u001b[1;32m   1187\u001b[0m \u001b[39m# this function, and just call forward.\u001b[39;00m\n\u001b[1;32m   1188\u001b[0m \u001b[39mif\u001b[39;00m \u001b[39mnot\u001b[39;00m (\u001b[39mself\u001b[39m\u001b[39m.\u001b[39m_backward_hooks \u001b[39mor\u001b[39;00m \u001b[39mself\u001b[39m\u001b[39m.\u001b[39m_forward_hooks \u001b[39mor\u001b[39;00m \u001b[39mself\u001b[39m\u001b[39m.\u001b[39m_forward_pre_hooks \u001b[39mor\u001b[39;00m _global_backward_hooks\n\u001b[1;32m   1189\u001b[0m         \u001b[39mor\u001b[39;00m _global_forward_hooks \u001b[39mor\u001b[39;00m _global_forward_pre_hooks):\n\u001b[0;32m-> 1190\u001b[0m     \u001b[39mreturn\u001b[39;00m forward_call(\u001b[39m*\u001b[39;49m\u001b[39minput\u001b[39;49m, \u001b[39m*\u001b[39;49m\u001b[39m*\u001b[39;49mkwargs)\n\u001b[1;32m   1191\u001b[0m \u001b[39m# Do not call functions when jit is used\u001b[39;00m\n\u001b[1;32m   1192\u001b[0m full_backward_hooks, non_full_backward_hooks \u001b[39m=\u001b[39m [], []\n",
      "File \u001b[0;32m/opt/homebrew/Caskroom/miniforge/base/envs/tf_main/lib/python3.8/site-packages/torch/nn/modules/activation.py:1167\u001b[0m, in \u001b[0;36mMultiheadAttention.forward\u001b[0;34m(self, query, key, value, key_padding_mask, need_weights, attn_mask, average_attn_weights)\u001b[0m\n\u001b[1;32m   1156\u001b[0m     attn_output, attn_output_weights \u001b[39m=\u001b[39m F\u001b[39m.\u001b[39mmulti_head_attention_forward(\n\u001b[1;32m   1157\u001b[0m         query, key, value, \u001b[39mself\u001b[39m\u001b[39m.\u001b[39membed_dim, \u001b[39mself\u001b[39m\u001b[39m.\u001b[39mnum_heads,\n\u001b[1;32m   1158\u001b[0m         \u001b[39mself\u001b[39m\u001b[39m.\u001b[39min_proj_weight, \u001b[39mself\u001b[39m\u001b[39m.\u001b[39min_proj_bias,\n\u001b[0;32m   (...)\u001b[0m\n\u001b[1;32m   1164\u001b[0m         q_proj_weight\u001b[39m=\u001b[39m\u001b[39mself\u001b[39m\u001b[39m.\u001b[39mq_proj_weight, k_proj_weight\u001b[39m=\u001b[39m\u001b[39mself\u001b[39m\u001b[39m.\u001b[39mk_proj_weight,\n\u001b[1;32m   1165\u001b[0m         v_proj_weight\u001b[39m=\u001b[39m\u001b[39mself\u001b[39m\u001b[39m.\u001b[39mv_proj_weight, average_attn_weights\u001b[39m=\u001b[39maverage_attn_weights)\n\u001b[1;32m   1166\u001b[0m \u001b[39melse\u001b[39;00m:\n\u001b[0;32m-> 1167\u001b[0m     attn_output, attn_output_weights \u001b[39m=\u001b[39m F\u001b[39m.\u001b[39;49mmulti_head_attention_forward(\n\u001b[1;32m   1168\u001b[0m         query, key, value, \u001b[39mself\u001b[39;49m\u001b[39m.\u001b[39;49membed_dim, \u001b[39mself\u001b[39;49m\u001b[39m.\u001b[39;49mnum_heads,\n\u001b[1;32m   1169\u001b[0m         \u001b[39mself\u001b[39;49m\u001b[39m.\u001b[39;49min_proj_weight, \u001b[39mself\u001b[39;49m\u001b[39m.\u001b[39;49min_proj_bias,\n\u001b[1;32m   1170\u001b[0m         \u001b[39mself\u001b[39;49m\u001b[39m.\u001b[39;49mbias_k, \u001b[39mself\u001b[39;49m\u001b[39m.\u001b[39;49mbias_v, \u001b[39mself\u001b[39;49m\u001b[39m.\u001b[39;49madd_zero_attn,\n\u001b[1;32m   1171\u001b[0m         \u001b[39mself\u001b[39;49m\u001b[39m.\u001b[39;49mdropout, \u001b[39mself\u001b[39;49m\u001b[39m.\u001b[39;49mout_proj\u001b[39m.\u001b[39;49mweight, \u001b[39mself\u001b[39;49m\u001b[39m.\u001b[39;49mout_proj\u001b[39m.\u001b[39;49mbias,\n\u001b[1;32m   1172\u001b[0m         training\u001b[39m=\u001b[39;49m\u001b[39mself\u001b[39;49m\u001b[39m.\u001b[39;49mtraining,\n\u001b[1;32m   1173\u001b[0m         key_padding_mask\u001b[39m=\u001b[39;49mkey_padding_mask, need_weights\u001b[39m=\u001b[39;49mneed_weights,\n\u001b[1;32m   1174\u001b[0m         attn_mask\u001b[39m=\u001b[39;49mattn_mask, average_attn_weights\u001b[39m=\u001b[39;49maverage_attn_weights)\n\u001b[1;32m   1175\u001b[0m \u001b[39mif\u001b[39;00m \u001b[39mself\u001b[39m\u001b[39m.\u001b[39mbatch_first \u001b[39mand\u001b[39;00m is_batched:\n\u001b[1;32m   1176\u001b[0m     \u001b[39mreturn\u001b[39;00m attn_output\u001b[39m.\u001b[39mtranspose(\u001b[39m1\u001b[39m, \u001b[39m0\u001b[39m), attn_output_weights\n",
      "File \u001b[0;32m/opt/homebrew/Caskroom/miniforge/base/envs/tf_main/lib/python3.8/site-packages/torch/nn/functional.py:5165\u001b[0m, in \u001b[0;36mmulti_head_attention_forward\u001b[0;34m(query, key, value, embed_dim_to_check, num_heads, in_proj_weight, in_proj_bias, bias_k, bias_v, add_zero_attn, dropout_p, out_proj_weight, out_proj_bias, training, key_padding_mask, need_weights, attn_mask, use_separate_proj_weight, q_proj_weight, k_proj_weight, v_proj_weight, static_k, static_v, average_attn_weights)\u001b[0m\n\u001b[1;32m   5162\u001b[0m \u001b[39mif\u001b[39;00m dropout_p \u001b[39m>\u001b[39m \u001b[39m0.0\u001b[39m:\n\u001b[1;32m   5163\u001b[0m     attn_output_weights \u001b[39m=\u001b[39m dropout(attn_output_weights, p\u001b[39m=\u001b[39mdropout_p)\n\u001b[0;32m-> 5165\u001b[0m attn_output \u001b[39m=\u001b[39m torch\u001b[39m.\u001b[39;49mbmm(attn_output_weights, v)\n\u001b[1;32m   5167\u001b[0m attn_output \u001b[39m=\u001b[39m attn_output\u001b[39m.\u001b[39mtranspose(\u001b[39m0\u001b[39m, \u001b[39m1\u001b[39m)\u001b[39m.\u001b[39mcontiguous()\u001b[39m.\u001b[39mview(tgt_len \u001b[39m*\u001b[39m bsz, embed_dim)\n\u001b[1;32m   5168\u001b[0m attn_output \u001b[39m=\u001b[39m linear(attn_output, out_proj_weight, out_proj_bias)\n",
      "\u001b[0;31mKeyboardInterrupt\u001b[0m: "
     ]
    }
   ],
   "source": [
    "epoch = 30\n",
    "best_loss = float('Inf')\n",
    "best_model = None\n",
    "patience = 10\n",
    "counter = 0\n",
    "\n",
    "for loop in range(1, epoch + 1):\n",
    "    \n",
    "    start_time = time.time()\n",
    "    \n",
    "    loss_train = train(\n",
    "        model=model, data=train_iter, optimizer=optimizer,\n",
    "        criterion=criterion, PAD_IDX=PAD_IDX\n",
    "    )\n",
    "    \n",
    "    elapsed_time = time.time() - start_time\n",
    "    \n",
    "    loss_valid = evaluate(\n",
    "        model=model, data=valid_iter, criterion=criterion, PAD_IDX=PAD_IDX\n",
    "    )\n",
    "    \n",
    "    print('[{}/{}] train loss: {:.2f}, valid loss: {:.2f}  [{}{:.0f}s] count: {}, {}'.format(\n",
    "        loop, epoch,\n",
    "        loss_train, loss_valid,\n",
    "        str(int(math.floor(elapsed_time / 60))) + 'm' if math.floor(elapsed_time / 60) > 0 else '',\n",
    "        elapsed_time % 60,\n",
    "        counter,\n",
    "        '**' if best_loss > loss_valid else ''\n",
    "    ))\n",
    "    \n",
    "    if best_loss > loss_valid:\n",
    "        best_loss = loss_valid\n",
    "        best_model = model\n",
    "        counter = 0\n",
    "        \n",
    "    \n",
    "    counter += 1"
   ]
  },
  {
   "cell_type": "code",
   "execution_count": null,
   "metadata": {},
   "outputs": [],
   "source": [
    "torch.save(best_model.state_dict(), './save_model/mode_default.pth')"
   ]
  },
  {
   "cell_type": "code",
   "execution_count": null,
   "metadata": {},
   "outputs": [],
   "source": [
    "import numba\n",
    "from numba import cuda\n",
    "device = cuda.get_current_device()\n",
    "device.reset()"
   ]
  },
  {
   "cell_type": "code",
   "execution_count": null,
   "metadata": {},
   "outputs": [],
   "source": [
    "def translate(\n",
    "    model, text, vocab_src, vocab_tgt, tokenizer_src, seq_len_tgt,\n",
    "    START_IDX, END_IDX\n",
    "):\n",
    "    \n",
    "    model.eval()\n",
    "    tokens = convert_text_to_indexes(text=text, vocab=vocab_src, tokenizer=tokenizer_src)\n",
    "    num_tokens = len(tokens)\n",
    "    src = torch.LongTensor(tokens).reshape(num_tokens, 1)\n",
    "    mask_src = (torch.zeros(num_tokens, num_tokens)).type(torch.bool)\n",
    "    \n",
    "    predicts = greedy_decode(\n",
    "        model=model, src=src,\n",
    "        mask_src=mask_src, seq_len_tgt=seq_len_tgt,\n",
    "        START_IDX=START_IDX, END_IDX=END_IDX\n",
    "    ).flatten()\n",
    "    \n",
    "    return ' '.join([vocab_tgt.itos[token] for token in predicts]).replace(\"<start>\", \"\").replace(\"<end>\", \"\")\n",
    "\n",
    "\n",
    "def greedy_decode(model, src, mask_src, seq_len_tgt, START_IDX, END_IDX):\n",
    "    \n",
    "    src = src.to(device)\n",
    "    mask_src = mask_src.to(device)\n",
    "\n",
    "    memory = model.encode(src, mask_src)\n",
    "    memory = model.transformer_encoder(model.positional_encoding(model.token_embedding_src(src)), mask_src)\n",
    "    ys = torch.ones(1, 1).fill_(START_IDX).type(torch.long).to(device)\n",
    "    \n",
    "    for i in range(seq_len_tgt - 1):\n",
    "        \n",
    "        memory = memory.to(device)\n",
    "        memory_mask = torch.zeros(ys.shape[0], memory.shape[0]).to(device).type(torch.bool)\n",
    "        mask_tgt = (generate_square_subsequent_mask(ys.size(0), PAD_IDX).type(torch.bool)).to(device)\n",
    "        \n",
    "        output = model.decode(ys, memory, mask_tgt)\n",
    "        output = output.transpose(0, 1)\n",
    "        output = model.output(output[:, -1])\n",
    "        _, next_word = torch.max(output, dim = 1)\n",
    "        next_word = next_word.item()\n",
    "\n",
    "        ys = torch.cat([ys, torch.ones(1, 1).type_as(src.data).fill_(next_word)], dim=0)\n",
    "        if next_word == END_IDX:\n",
    "            break\n",
    "            \n",
    "    return ys"
   ]
  },
  {
   "cell_type": "code",
   "execution_count": null,
   "metadata": {},
   "outputs": [],
   "source": [
    "seq_len_tgt = max([len(x[1]) for x in train_data])\n",
    "\n",
    "text = 'Eine Gruppe von Menschen steht vor einem Iglu .'\n",
    "\n",
    "translate(\n",
    "    model=best_model, text=text, vocab_src=vocab_src, vocab_tgt=vocab_tgt,\n",
    "    tokenizer_src=tokenizer_src, seq_len_tgt=seq_len_tgt,\n",
    "    START_IDX=START_IDX, END_IDX=END_IDX\n",
    ")"
   ]
  },
  {
   "cell_type": "code",
   "execution_count": null,
   "metadata": {},
   "outputs": [],
   "source": []
  }
 ],
 "metadata": {
  "kernelspec": {
   "display_name": "Python 3 (ipykernel)",
   "language": "python",
   "name": "python3"
  },
  "language_info": {
   "codemirror_mode": {
    "name": "ipython",
    "version": 3
   },
   "file_extension": ".py",
   "mimetype": "text/x-python",
   "name": "python",
   "nbconvert_exporter": "python",
   "pygments_lexer": "ipython3",
   "version": "3.8.15 | packaged by conda-forge | (default, Nov 22 2022, 08:49:06) \n[Clang 14.0.6 ]"
  },
  "vscode": {
   "interpreter": {
    "hash": "d596c7f88952a4ee63e1cc33ef8111b53f02e44a68c3041f75798670200e9c0b"
   }
  }
 },
 "nbformat": 4,
 "nbformat_minor": 4
}
